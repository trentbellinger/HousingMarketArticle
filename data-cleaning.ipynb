{
 "cells": [
  {
   "attachments": {},
   "cell_type": "markdown",
   "metadata": {},
   "source": [
    "### Importing libraries"
   ]
  },
  {
   "cell_type": "code",
   "execution_count": 1,
   "metadata": {},
   "outputs": [],
   "source": [
    "import pandas as pd\n",
    "import numpy as np"
   ]
  },
  {
   "attachments": {},
   "cell_type": "markdown",
   "metadata": {},
   "source": [
    "### Importing dataset"
   ]
  },
  {
   "cell_type": "code",
   "execution_count": 2,
   "metadata": {},
   "outputs": [],
   "source": [
    "df = pd.read_excel('housing_california.xlsx')"
   ]
  },
  {
   "cell_type": "code",
   "execution_count": 3,
   "metadata": {},
   "outputs": [],
   "source": [
    "df = df[4:].reset_index()\n",
    "df.drop(['index', 'Unnamed: 3', 'Unnamed: 5'], axis = 1, inplace = True)\n",
    "df.columns = df.iloc[0].values\n",
    "df.drop(range(0, 8), axis = 0, inplace=True)\n",
    "df = df.reset_index() \n",
    "df.drop(['index'], axis = 1, inplace = True)\n",
    "df.drop(['Median Home Price', 'Monthly Payment Including Taxes & Insurance', 'Minimum Qualifying Income']\n",
    "    , axis = 1, inplace = True)"
   ]
  },
  {
   "attachments": {},
   "cell_type": "markdown",
   "metadata": {},
   "source": [
    "Because the table is already grouped by region, we can do the label encoding by region as follows"
   ]
  },
  {
   "cell_type": "code",
   "execution_count": 4,
   "metadata": {},
   "outputs": [],
   "source": [
    "def make_region_column(data, lower, upper):\n",
    "    region_list = []\n",
    "    for i in data.index:\n",
    "        if (i >= lower and i <= upper):\n",
    "            region_list.append(1)\n",
    "        else:\n",
    "            region_list.append(0)\n",
    "    return region_list"
   ]
  },
  {
   "cell_type": "code",
   "execution_count": 5,
   "metadata": {},
   "outputs": [],
   "source": [
    "sf_col = make_region_column(df, 0, 9)\n",
    "df['S.F. Bay Area'] = sf_col\n",
    "socal_col = make_region_column(df, 10, 16)\n",
    "df['Southern California'] = socal_col\n",
    "cc_col = make_region_column(df, 17, 21)\n",
    "df['Central Coast'] = cc_col\n",
    "cv_col = make_region_column(df, 22, 34)\n",
    "df['Central Valley'] = cv_col\n",
    "fn_col = make_region_column(df, 35, 41)\n",
    "df['Far North'] = fn_col\n",
    "other_col = make_region_column(df, 42, 56)\n",
    "df['Other Counties'] = other_col"
   ]
  },
  {
   "cell_type": "code",
   "execution_count": 6,
   "metadata": {},
   "outputs": [],
   "source": [
    "df.dropna(axis = 0, inplace = True)"
   ]
  },
  {
   "attachments": {},
   "cell_type": "markdown",
   "metadata": {},
   "source": [
    "Making a singular region column for graphing"
   ]
  },
  {
   "cell_type": "code",
   "execution_count": 7,
   "metadata": {},
   "outputs": [],
   "source": [
    "region_col = []\n",
    "for i in range(0, len(df)):\n",
    "    if df.iloc[i]['S.F. Bay Area'] == 1:\n",
    "        region_col.append('S.F. Bay Area')\n",
    "    elif df.iloc[i]['Southern California'] == 1:\n",
    "        region_col.append('Southern California')\n",
    "    elif df.iloc[i]['Central Coast'] == 1:\n",
    "        region_col.append('Central Coast')\n",
    "    elif df.iloc[i]['Central Valley'] == 1:\n",
    "        region_col.append('Central Valley')\n",
    "    elif df.iloc[i]['Far North'] == 1:\n",
    "        region_col.append('Far North')\n",
    "    else:\n",
    "        region_col.append('Other County')\n",
    "    \n",
    "df['region'] = region_col"
   ]
  },
  {
   "cell_type": "code",
   "execution_count": 8,
   "metadata": {},
   "outputs": [],
   "source": [
    "df.to_csv('clean_california_housing.csv')"
   ]
  }
 ],
 "metadata": {
  "kernelspec": {
   "display_name": "base",
   "language": "python",
   "name": "python3"
  },
  "language_info": {
   "codemirror_mode": {
    "name": "ipython",
    "version": 3
   },
   "file_extension": ".py",
   "mimetype": "text/x-python",
   "name": "python",
   "nbconvert_exporter": "python",
   "pygments_lexer": "ipython3",
   "version": "3.9.13"
  },
  "orig_nbformat": 4,
  "vscode": {
   "interpreter": {
    "hash": "9ec37749e9d589f1cf65d67191ff786f565f6eb24a500e1cbb96fe95a7af7e7e"
   }
  }
 },
 "nbformat": 4,
 "nbformat_minor": 2
}

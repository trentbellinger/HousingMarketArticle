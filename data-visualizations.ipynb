{
 "cells": [
  {
   "cell_type": "code",
   "execution_count": 101,
   "metadata": {},
   "outputs": [],
   "source": [
    "import pandas as pd\n",
    "import numpy as np\n",
    "import matplotlib.pyplot as plt\n",
    "import seaborn as sns"
   ]
  },
  {
   "cell_type": "code",
   "execution_count": 102,
   "metadata": {},
   "outputs": [
    {
     "data": {
      "text/html": [
       "<div>\n",
       "<style scoped>\n",
       "    .dataframe tbody tr th:only-of-type {\n",
       "        vertical-align: middle;\n",
       "    }\n",
       "\n",
       "    .dataframe tbody tr th {\n",
       "        vertical-align: top;\n",
       "    }\n",
       "\n",
       "    .dataframe thead th {\n",
       "        text-align: right;\n",
       "    }\n",
       "</style>\n",
       "<table border=\"1\" class=\"dataframe\">\n",
       "  <thead>\n",
       "    <tr style=\"text-align: right;\">\n",
       "      <th></th>\n",
       "      <th>STATE/REGION/COUNTY</th>\n",
       "      <th>Q32022</th>\n",
       "      <th>Q22022</th>\n",
       "      <th>Q32021</th>\n",
       "      <th>S.F. Bay Area</th>\n",
       "      <th>Southern California</th>\n",
       "      <th>Central Coast</th>\n",
       "      <th>Central Valley</th>\n",
       "      <th>Far North</th>\n",
       "      <th>Other Counties</th>\n",
       "      <th>region</th>\n",
       "    </tr>\n",
       "  </thead>\n",
       "  <tbody>\n",
       "    <tr>\n",
       "      <th>1</th>\n",
       "      <td>Alameda</td>\n",
       "      <td>17.185421</td>\n",
       "      <td>14.983912</td>\n",
       "      <td>18.960527</td>\n",
       "      <td>1</td>\n",
       "      <td>0</td>\n",
       "      <td>0</td>\n",
       "      <td>0</td>\n",
       "      <td>0</td>\n",
       "      <td>0</td>\n",
       "      <td>S.F. Bay Area</td>\n",
       "    </tr>\n",
       "    <tr>\n",
       "      <th>2</th>\n",
       "      <td>Contra Costa</td>\n",
       "      <td>25.253664</td>\n",
       "      <td>21.747257</td>\n",
       "      <td>31.427381</td>\n",
       "      <td>1</td>\n",
       "      <td>0</td>\n",
       "      <td>0</td>\n",
       "      <td>0</td>\n",
       "      <td>0</td>\n",
       "      <td>0</td>\n",
       "      <td>S.F. Bay Area</td>\n",
       "    </tr>\n",
       "    <tr>\n",
       "      <th>3</th>\n",
       "      <td>Marin</td>\n",
       "      <td>18.433956</td>\n",
       "      <td>16.504137</td>\n",
       "      <td>21.942066</td>\n",
       "      <td>1</td>\n",
       "      <td>0</td>\n",
       "      <td>0</td>\n",
       "      <td>0</td>\n",
       "      <td>0</td>\n",
       "      <td>0</td>\n",
       "      <td>S.F. Bay Area</td>\n",
       "    </tr>\n",
       "    <tr>\n",
       "      <th>4</th>\n",
       "      <td>Napa</td>\n",
       "      <td>13.250840</td>\n",
       "      <td>15.442713</td>\n",
       "      <td>23.104195</td>\n",
       "      <td>1</td>\n",
       "      <td>0</td>\n",
       "      <td>0</td>\n",
       "      <td>0</td>\n",
       "      <td>0</td>\n",
       "      <td>0</td>\n",
       "      <td>S.F. Bay Area</td>\n",
       "    </tr>\n",
       "    <tr>\n",
       "      <th>5</th>\n",
       "      <td>San Francisco</td>\n",
       "      <td>20.465951</td>\n",
       "      <td>16.893673</td>\n",
       "      <td>20.534223</td>\n",
       "      <td>1</td>\n",
       "      <td>0</td>\n",
       "      <td>0</td>\n",
       "      <td>0</td>\n",
       "      <td>0</td>\n",
       "      <td>0</td>\n",
       "      <td>S.F. Bay Area</td>\n",
       "    </tr>\n",
       "    <tr>\n",
       "      <th>6</th>\n",
       "      <td>San Mateo</td>\n",
       "      <td>18.533543</td>\n",
       "      <td>15.027468</td>\n",
       "      <td>19.486564</td>\n",
       "      <td>1</td>\n",
       "      <td>0</td>\n",
       "      <td>0</td>\n",
       "      <td>0</td>\n",
       "      <td>0</td>\n",
       "      <td>0</td>\n",
       "      <td>S.F. Bay Area</td>\n",
       "    </tr>\n",
       "    <tr>\n",
       "      <th>7</th>\n",
       "      <td>Santa Clara</td>\n",
       "      <td>20.240516</td>\n",
       "      <td>17.852627</td>\n",
       "      <td>22.152901</td>\n",
       "      <td>1</td>\n",
       "      <td>0</td>\n",
       "      <td>0</td>\n",
       "      <td>0</td>\n",
       "      <td>0</td>\n",
       "      <td>0</td>\n",
       "      <td>S.F. Bay Area</td>\n",
       "    </tr>\n",
       "    <tr>\n",
       "      <th>8</th>\n",
       "      <td>Solano</td>\n",
       "      <td>29.917384</td>\n",
       "      <td>28.432095</td>\n",
       "      <td>41.736598</td>\n",
       "      <td>1</td>\n",
       "      <td>0</td>\n",
       "      <td>0</td>\n",
       "      <td>0</td>\n",
       "      <td>0</td>\n",
       "      <td>0</td>\n",
       "      <td>S.F. Bay Area</td>\n",
       "    </tr>\n",
       "    <tr>\n",
       "      <th>9</th>\n",
       "      <td>Sonoma</td>\n",
       "      <td>18.759466</td>\n",
       "      <td>17.268517</td>\n",
       "      <td>28.239133</td>\n",
       "      <td>1</td>\n",
       "      <td>0</td>\n",
       "      <td>0</td>\n",
       "      <td>0</td>\n",
       "      <td>0</td>\n",
       "      <td>0</td>\n",
       "      <td>S.F. Bay Area</td>\n",
       "    </tr>\n",
       "    <tr>\n",
       "      <th>11</th>\n",
       "      <td>Los Angeles</td>\n",
       "      <td>13.369144</td>\n",
       "      <td>15.940141</td>\n",
       "      <td>18.893788</td>\n",
       "      <td>0</td>\n",
       "      <td>1</td>\n",
       "      <td>0</td>\n",
       "      <td>0</td>\n",
       "      <td>0</td>\n",
       "      <td>0</td>\n",
       "      <td>Southern California</td>\n",
       "    </tr>\n",
       "  </tbody>\n",
       "</table>\n",
       "</div>"
      ],
      "text/plain": [
       "   STATE/REGION/COUNTY     Q32022     Q22022     Q32021  S.F. Bay Area  \\\n",
       "1              Alameda  17.185421  14.983912  18.960527              1   \n",
       "2         Contra Costa  25.253664  21.747257  31.427381              1   \n",
       "3                Marin  18.433956  16.504137  21.942066              1   \n",
       "4                 Napa  13.250840  15.442713  23.104195              1   \n",
       "5        San Francisco  20.465951  16.893673  20.534223              1   \n",
       "6            San Mateo  18.533543  15.027468  19.486564              1   \n",
       "7          Santa Clara  20.240516  17.852627  22.152901              1   \n",
       "8               Solano  29.917384  28.432095  41.736598              1   \n",
       "9               Sonoma  18.759466  17.268517  28.239133              1   \n",
       "11         Los Angeles  13.369144  15.940141  18.893788              0   \n",
       "\n",
       "    Southern California  Central Coast  Central Valley  Far North  \\\n",
       "1                     0              0               0          0   \n",
       "2                     0              0               0          0   \n",
       "3                     0              0               0          0   \n",
       "4                     0              0               0          0   \n",
       "5                     0              0               0          0   \n",
       "6                     0              0               0          0   \n",
       "7                     0              0               0          0   \n",
       "8                     0              0               0          0   \n",
       "9                     0              0               0          0   \n",
       "11                    1              0               0          0   \n",
       "\n",
       "    Other Counties               region  \n",
       "1                0        S.F. Bay Area  \n",
       "2                0        S.F. Bay Area  \n",
       "3                0        S.F. Bay Area  \n",
       "4                0        S.F. Bay Area  \n",
       "5                0        S.F. Bay Area  \n",
       "6                0        S.F. Bay Area  \n",
       "7                0        S.F. Bay Area  \n",
       "8                0        S.F. Bay Area  \n",
       "9                0        S.F. Bay Area  \n",
       "11               0  Southern California  "
      ]
     },
     "execution_count": 102,
     "metadata": {},
     "output_type": "execute_result"
    }
   ],
   "source": [
    "df = pd.read_csv('clean_california_housing.csv', index_col = 0)\n",
    "df.head(10)"
   ]
  },
  {
   "cell_type": "code",
   "execution_count": 113,
   "metadata": {},
   "outputs": [
    {
     "data": {
      "text/plain": [
       "Other County           14\n",
       "Central Valley         12\n",
       "S.F. Bay Area           9\n",
       "Southern California     6\n",
       "Far North               6\n",
       "Central Coast           4\n",
       "Name: region, dtype: int64"
      ]
     },
     "execution_count": 113,
     "metadata": {},
     "output_type": "execute_result"
    }
   ],
   "source": [
    "df['region'].value_counts()"
   ]
  },
  {
   "cell_type": "code",
   "execution_count": 120,
   "metadata": {},
   "outputs": [
    {
     "data": {
      "text/html": [
       "<div>\n",
       "<style scoped>\n",
       "    .dataframe tbody tr th:only-of-type {\n",
       "        vertical-align: middle;\n",
       "    }\n",
       "\n",
       "    .dataframe tbody tr th {\n",
       "        vertical-align: top;\n",
       "    }\n",
       "\n",
       "    .dataframe thead th {\n",
       "        text-align: right;\n",
       "    }\n",
       "</style>\n",
       "<table border=\"1\" class=\"dataframe\">\n",
       "  <thead>\n",
       "    <tr style=\"text-align: right;\">\n",
       "      <th></th>\n",
       "      <th>STATE/REGION/COUNTY</th>\n",
       "      <th>Q32022</th>\n",
       "      <th>Q22022</th>\n",
       "      <th>Q32021</th>\n",
       "      <th>S.F. Bay Area</th>\n",
       "      <th>Southern California</th>\n",
       "      <th>Central Coast</th>\n",
       "      <th>Central Valley</th>\n",
       "      <th>Far North</th>\n",
       "      <th>Other Counties</th>\n",
       "      <th>region</th>\n",
       "    </tr>\n",
       "  </thead>\n",
       "  <tbody>\n",
       "    <tr>\n",
       "      <th>23</th>\n",
       "      <td>Fresno</td>\n",
       "      <td>31.878067</td>\n",
       "      <td>30.596693</td>\n",
       "      <td>42.430131</td>\n",
       "      <td>0</td>\n",
       "      <td>0</td>\n",
       "      <td>0</td>\n",
       "      <td>1</td>\n",
       "      <td>0</td>\n",
       "      <td>0</td>\n",
       "      <td>Central Valley</td>\n",
       "    </tr>\n",
       "    <tr>\n",
       "      <th>24</th>\n",
       "      <td>Glenn</td>\n",
       "      <td>34.202398</td>\n",
       "      <td>35.805262</td>\n",
       "      <td>44.493975</td>\n",
       "      <td>0</td>\n",
       "      <td>0</td>\n",
       "      <td>0</td>\n",
       "      <td>1</td>\n",
       "      <td>0</td>\n",
       "      <td>0</td>\n",
       "      <td>Central Valley</td>\n",
       "    </tr>\n",
       "    <tr>\n",
       "      <th>25</th>\n",
       "      <td>Kern</td>\n",
       "      <td>33.683771</td>\n",
       "      <td>32.009942</td>\n",
       "      <td>44.636813</td>\n",
       "      <td>0</td>\n",
       "      <td>0</td>\n",
       "      <td>0</td>\n",
       "      <td>1</td>\n",
       "      <td>0</td>\n",
       "      <td>0</td>\n",
       "      <td>Central Valley</td>\n",
       "    </tr>\n",
       "    <tr>\n",
       "      <th>26</th>\n",
       "      <td>Kings</td>\n",
       "      <td>39.737048</td>\n",
       "      <td>38.535333</td>\n",
       "      <td>55.979151</td>\n",
       "      <td>0</td>\n",
       "      <td>0</td>\n",
       "      <td>0</td>\n",
       "      <td>1</td>\n",
       "      <td>0</td>\n",
       "      <td>0</td>\n",
       "      <td>Central Valley</td>\n",
       "    </tr>\n",
       "    <tr>\n",
       "      <th>27</th>\n",
       "      <td>Madera</td>\n",
       "      <td>33.892689</td>\n",
       "      <td>32.490325</td>\n",
       "      <td>43.431372</td>\n",
       "      <td>0</td>\n",
       "      <td>0</td>\n",
       "      <td>0</td>\n",
       "      <td>1</td>\n",
       "      <td>0</td>\n",
       "      <td>0</td>\n",
       "      <td>Central Valley</td>\n",
       "    </tr>\n",
       "    <tr>\n",
       "      <th>28</th>\n",
       "      <td>Merced</td>\n",
       "      <td>33.688233</td>\n",
       "      <td>33.909116</td>\n",
       "      <td>44.264500</td>\n",
       "      <td>0</td>\n",
       "      <td>0</td>\n",
       "      <td>0</td>\n",
       "      <td>1</td>\n",
       "      <td>0</td>\n",
       "      <td>0</td>\n",
       "      <td>Central Valley</td>\n",
       "    </tr>\n",
       "    <tr>\n",
       "      <th>29</th>\n",
       "      <td>Placer</td>\n",
       "      <td>29.780975</td>\n",
       "      <td>26.704424</td>\n",
       "      <td>38.035381</td>\n",
       "      <td>0</td>\n",
       "      <td>0</td>\n",
       "      <td>0</td>\n",
       "      <td>1</td>\n",
       "      <td>0</td>\n",
       "      <td>0</td>\n",
       "      <td>Central Valley</td>\n",
       "    </tr>\n",
       "    <tr>\n",
       "      <th>30</th>\n",
       "      <td>Sacramento</td>\n",
       "      <td>28.701388</td>\n",
       "      <td>26.730051</td>\n",
       "      <td>39.318625</td>\n",
       "      <td>0</td>\n",
       "      <td>0</td>\n",
       "      <td>0</td>\n",
       "      <td>1</td>\n",
       "      <td>0</td>\n",
       "      <td>0</td>\n",
       "      <td>Central Valley</td>\n",
       "    </tr>\n",
       "    <tr>\n",
       "      <th>31</th>\n",
       "      <td>San Benito</td>\n",
       "      <td>20.228664</td>\n",
       "      <td>16.562413</td>\n",
       "      <td>27.036312</td>\n",
       "      <td>0</td>\n",
       "      <td>0</td>\n",
       "      <td>0</td>\n",
       "      <td>1</td>\n",
       "      <td>0</td>\n",
       "      <td>0</td>\n",
       "      <td>Central Valley</td>\n",
       "    </tr>\n",
       "    <tr>\n",
       "      <th>32</th>\n",
       "      <td>San Joaquin</td>\n",
       "      <td>29.183594</td>\n",
       "      <td>26.090970</td>\n",
       "      <td>37.247962</td>\n",
       "      <td>0</td>\n",
       "      <td>0</td>\n",
       "      <td>0</td>\n",
       "      <td>1</td>\n",
       "      <td>0</td>\n",
       "      <td>0</td>\n",
       "      <td>Central Valley</td>\n",
       "    </tr>\n",
       "    <tr>\n",
       "      <th>33</th>\n",
       "      <td>Stanislaus</td>\n",
       "      <td>29.577194</td>\n",
       "      <td>28.290107</td>\n",
       "      <td>40.666024</td>\n",
       "      <td>0</td>\n",
       "      <td>0</td>\n",
       "      <td>0</td>\n",
       "      <td>1</td>\n",
       "      <td>0</td>\n",
       "      <td>0</td>\n",
       "      <td>Central Valley</td>\n",
       "    </tr>\n",
       "    <tr>\n",
       "      <th>34</th>\n",
       "      <td>Tulare</td>\n",
       "      <td>35.623904</td>\n",
       "      <td>33.664186</td>\n",
       "      <td>45.500604</td>\n",
       "      <td>0</td>\n",
       "      <td>0</td>\n",
       "      <td>0</td>\n",
       "      <td>1</td>\n",
       "      <td>0</td>\n",
       "      <td>0</td>\n",
       "      <td>Central Valley</td>\n",
       "    </tr>\n",
       "    <tr>\n",
       "      <th>36</th>\n",
       "      <td>Butte</td>\n",
       "      <td>29.829197</td>\n",
       "      <td>27.709393</td>\n",
       "      <td>34.754584</td>\n",
       "      <td>0</td>\n",
       "      <td>0</td>\n",
       "      <td>0</td>\n",
       "      <td>0</td>\n",
       "      <td>1</td>\n",
       "      <td>0</td>\n",
       "      <td>Far North</td>\n",
       "    </tr>\n",
       "    <tr>\n",
       "      <th>37</th>\n",
       "      <td>Lassen</td>\n",
       "      <td>55.763191</td>\n",
       "      <td>53.818360</td>\n",
       "      <td>68.015527</td>\n",
       "      <td>0</td>\n",
       "      <td>0</td>\n",
       "      <td>0</td>\n",
       "      <td>0</td>\n",
       "      <td>1</td>\n",
       "      <td>0</td>\n",
       "      <td>Far North</td>\n",
       "    </tr>\n",
       "    <tr>\n",
       "      <th>38</th>\n",
       "      <td>Plumas</td>\n",
       "      <td>28.453333</td>\n",
       "      <td>31.552355</td>\n",
       "      <td>38.297970</td>\n",
       "      <td>0</td>\n",
       "      <td>0</td>\n",
       "      <td>0</td>\n",
       "      <td>0</td>\n",
       "      <td>1</td>\n",
       "      <td>0</td>\n",
       "      <td>Far North</td>\n",
       "    </tr>\n",
       "    <tr>\n",
       "      <th>39</th>\n",
       "      <td>Shasta</td>\n",
       "      <td>38.740811</td>\n",
       "      <td>36.207335</td>\n",
       "      <td>44.133666</td>\n",
       "      <td>0</td>\n",
       "      <td>0</td>\n",
       "      <td>0</td>\n",
       "      <td>0</td>\n",
       "      <td>1</td>\n",
       "      <td>0</td>\n",
       "      <td>Far North</td>\n",
       "    </tr>\n",
       "    <tr>\n",
       "      <th>40</th>\n",
       "      <td>Siskiyou</td>\n",
       "      <td>30.807372</td>\n",
       "      <td>29.524887</td>\n",
       "      <td>41.044132</td>\n",
       "      <td>0</td>\n",
       "      <td>0</td>\n",
       "      <td>0</td>\n",
       "      <td>0</td>\n",
       "      <td>1</td>\n",
       "      <td>0</td>\n",
       "      <td>Far North</td>\n",
       "    </tr>\n",
       "    <tr>\n",
       "      <th>41</th>\n",
       "      <td>Tehama</td>\n",
       "      <td>38.838019</td>\n",
       "      <td>32.842910</td>\n",
       "      <td>37.937308</td>\n",
       "      <td>0</td>\n",
       "      <td>0</td>\n",
       "      <td>0</td>\n",
       "      <td>0</td>\n",
       "      <td>1</td>\n",
       "      <td>0</td>\n",
       "      <td>Far North</td>\n",
       "    </tr>\n",
       "  </tbody>\n",
       "</table>\n",
       "</div>"
      ],
      "text/plain": [
       "   STATE/REGION/COUNTY     Q32022     Q22022     Q32021  S.F. Bay Area  \\\n",
       "23              Fresno  31.878067  30.596693  42.430131              0   \n",
       "24               Glenn  34.202398  35.805262  44.493975              0   \n",
       "25                Kern  33.683771  32.009942  44.636813              0   \n",
       "26              Kings   39.737048  38.535333  55.979151              0   \n",
       "27              Madera  33.892689  32.490325  43.431372              0   \n",
       "28              Merced  33.688233  33.909116  44.264500              0   \n",
       "29             Placer   29.780975  26.704424  38.035381              0   \n",
       "30          Sacramento  28.701388  26.730051  39.318625              0   \n",
       "31          San Benito  20.228664  16.562413  27.036312              0   \n",
       "32         San Joaquin  29.183594  26.090970  37.247962              0   \n",
       "33          Stanislaus  29.577194  28.290107  40.666024              0   \n",
       "34              Tulare  35.623904  33.664186  45.500604              0   \n",
       "36               Butte  29.829197  27.709393  34.754584              0   \n",
       "37              Lassen  55.763191  53.818360  68.015527              0   \n",
       "38              Plumas  28.453333  31.552355  38.297970              0   \n",
       "39              Shasta  38.740811  36.207335  44.133666              0   \n",
       "40            Siskiyou  30.807372  29.524887  41.044132              0   \n",
       "41              Tehama  38.838019  32.842910  37.937308              0   \n",
       "\n",
       "    Southern California  Central Coast  Central Valley  Far North  \\\n",
       "23                    0              0               1          0   \n",
       "24                    0              0               1          0   \n",
       "25                    0              0               1          0   \n",
       "26                    0              0               1          0   \n",
       "27                    0              0               1          0   \n",
       "28                    0              0               1          0   \n",
       "29                    0              0               1          0   \n",
       "30                    0              0               1          0   \n",
       "31                    0              0               1          0   \n",
       "32                    0              0               1          0   \n",
       "33                    0              0               1          0   \n",
       "34                    0              0               1          0   \n",
       "36                    0              0               0          1   \n",
       "37                    0              0               0          1   \n",
       "38                    0              0               0          1   \n",
       "39                    0              0               0          1   \n",
       "40                    0              0               0          1   \n",
       "41                    0              0               0          1   \n",
       "\n",
       "    Other Counties          region  \n",
       "23               0  Central Valley  \n",
       "24               0  Central Valley  \n",
       "25               0  Central Valley  \n",
       "26               0  Central Valley  \n",
       "27               0  Central Valley  \n",
       "28               0  Central Valley  \n",
       "29               0  Central Valley  \n",
       "30               0  Central Valley  \n",
       "31               0  Central Valley  \n",
       "32               0  Central Valley  \n",
       "33               0  Central Valley  \n",
       "34               0  Central Valley  \n",
       "36               0       Far North  \n",
       "37               0       Far North  \n",
       "38               0       Far North  \n",
       "39               0       Far North  \n",
       "40               0       Far North  \n",
       "41               0       Far North  "
      ]
     },
     "execution_count": 120,
     "metadata": {},
     "output_type": "execute_result"
    }
   ],
   "source": [
    "df[(df['region'] == 'Far North') | (df['region'] == 'Central Valley')]"
   ]
  },
  {
   "cell_type": "code",
   "execution_count": 103,
   "metadata": {},
   "outputs": [],
   "source": [
    "median_df = df['Q32022'].groupby(by = df['region']).median().reset_index()"
   ]
  },
  {
   "cell_type": "code",
   "execution_count": 104,
   "metadata": {},
   "outputs": [
    {
     "data": {
      "image/png": "[encoded data removed]",
      "text/plain": [
       "<Figure size 1000x500 with 1 Axes>"
      ]
     },
     "metadata": {},
     "output_type": "display_data"
    }
   ],
   "source": [
    "sns.barplot(x = median_df['region'], y = median_df['Q32022'], edgecolor = 'black', linewidth = 1.5, palette = 'Dark2')\n",
    "plt.xlabel('Region')\n",
    "plt.ylabel('CAR Housing Affordability Index')\n",
    "plt.title('Median CAR Housing Affordability Index By Region')\n",
    "fig, ax = plt.gcf(), plt.gca()\n",
    "fig.set_size_inches(10, 5)"
   ]
  },
  {
   "cell_type": "code",
   "execution_count": 105,
   "metadata": {},
   "outputs": [
    {
     "data": {
      "application/vnd.plotly.v1+json": {
       "config": {
        "plotlyServerURL": "https://plot.ly"
       },
       "data": [
        {
         "alignmentgroup": "True",
         "hovertemplate": "region=%{x}<br>Q32022=%{y}<extra></extra>",
         "legendgroup": "Central Coast",
         "marker": {
          "color": "#F8766D",
          "pattern": {
           "shape": ""
          }
         },
         "name": "Central Coast",
         "offsetgroup": "Central Coast",
         "orientation": "v",
         "showlegend": true,
         "textposition": "auto",
         "type": "bar",
         "x": [
          "Central Coast"
         ],
         "xaxis": "x",
         "y": [
          12.960322153492253
         ],
         "yaxis": "y"
        },
        {
         "alignmentgroup": "True",
         "hovertemplate": "region=%{x}<br>Q32022=%{y}<extra></extra>",
         "legendgroup": "Central Valley",
         "marker": {
          "color": "#A3A500",
          "pattern": {
           "shape": ""
          }
         },
         "name": "Central Valley",
         "offsetgroup": "Central Valley",
         "orientation": "v",
         "showlegend": true,
         "textposition": "auto",
         "type": "bar",
         "x": [
          "Central Valley"
         ],
         "xaxis": "x",
         "y": [
          32.78091936679765
         ],
         "yaxis": "y"
        },
        {
         "alignmentgroup": "True",
         "hovertemplate": "region=%{x}<br>Q32022=%{y}<extra></extra>",
         "legendgroup": "Far North",
         "marker": {
          "color": "#00BF7D",
          "pattern": {
           "shape": ""
          }
         },
         "name": "Far North",
         "offsetgroup": "Far North",
         "orientation": "v",
         "showlegend": true,
         "textposition": "auto",
         "type": "bar",
         "x": [
          "Far North"
         ],
         "xaxis": "x",
         "y": [
          34.774091450202626
         ],
         "yaxis": "y"
        },
        {
         "alignmentgroup": "True",
         "hovertemplate": "region=%{x}<br>Q32022=%{y}<extra></extra>",
         "legendgroup": "Other County",
         "marker": {
          "color": "#00B0F6",
          "pattern": {
           "shape": ""
          }
         },
         "name": "Other County",
         "offsetgroup": "Other County",
         "orientation": "v",
         "showlegend": true,
         "textposition": "auto",
         "type": "bar",
         "x": [
          "Other County"
         ],
         "xaxis": "x",
         "y": [
          27.10205319500134
         ],
         "yaxis": "y"
        },
        {
         "alignmentgroup": "True",
         "hovertemplate": "region=%{x}<br>Q32022=%{y}<extra></extra>",
         "legendgroup": "S.F. Bay Area",
         "marker": {
          "color": "#E76BF3",
          "pattern": {
           "shape": ""
          }
         },
         "name": "S.F. Bay Area",
         "offsetgroup": "S.F. Bay Area",
         "orientation": "v",
         "showlegend": true,
         "textposition": "auto",
         "type": "bar",
         "x": [
          "S.F. Bay Area"
         ],
         "xaxis": "x",
         "y": [
          18.759465574869804
         ],
         "yaxis": "y"
        },
        {
         "alignmentgroup": "True",
         "hovertemplate": "region=%{x}<br>Q32022=%{y}<extra></extra>",
         "legendgroup": "Southern California",
         "marker": {
          "color": "#F8766D",
          "pattern": {
           "shape": ""
          }
         },
         "name": "Southern California",
         "offsetgroup": "Southern California",
         "orientation": "v",
         "showlegend": true,
         "textposition": "auto",
         "type": "bar",
         "x": [
          "Southern California"
         ],
         "xaxis": "x",
         "y": [
          15.924477195404378
         ],
         "yaxis": "y"
        }
       ],
       "layout": {
        "barmode": "relative",
        "legend": {
         "title": {
          "text": "Region"
         },
         "tracegroupgap": 0
        },
        "margin": {
         "t": 60
        },
        "template": {
         "data": {
          "bar": [
           {
            "error_x": {
             "color": "rgb(51,51,51)"
            },
            "error_y": {
             "color": "rgb(51,51,51)"
            },
            "marker": {
             "line": {
              "color": "rgb(237,237,237)",
              "width": 0.5
             },
             "pattern": {
              "fillmode": "overlay",
              "size": 10,
              "solidity": 0.2
             }
            },
            "type": "bar"
           }
          ],
          "barpolar": [
           {
            "marker": {
             "line": {
              "color": "rgb(237,237,237)",
              "width": 0.5
             },
             "pattern": {
              "fillmode": "overlay",
              "size": 10,
              "solidity": 0.2
             }
            },
            "type": "barpolar"
           }
          ],
          "carpet": [
           {
            "aaxis": {
             "endlinecolor": "rgb(51,51,51)",
             "gridcolor": "white",
             "linecolor": "white",
             "minorgridcolor": "white",
             "startlinecolor": "rgb(51,51,51)"
            },
            "baxis": {
             "endlinecolor": "rgb(51,51,51)",
             "gridcolor": "white",
             "linecolor": "white",
             "minorgridcolor": "white",
             "startlinecolor": "rgb(51,51,51)"
            },
            "type": "carpet"
           }
          ],
          "choropleth": [
           {
            "colorbar": {
             "outlinewidth": 0,
             "tickcolor": "rgb(237,237,237)",
             "ticklen": 6,
             "ticks": "inside"
            },
            "type": "choropleth"
           }
          ],
          "contour": [
           {
            "colorbar": {
             "outlinewidth": 0,
             "tickcolor": "rgb(237,237,237)",
             "ticklen": 6,
             "ticks": "inside"
            },
            "colorscale": [
             [
              0,
              "rgb(20,44,66)"
             ],
             [
              1,
              "rgb(90,179,244)"
             ]
            ],
            "type": "contour"
           }
          ],
          "contourcarpet": [
           {
            "colorbar": {
             "outlinewidth": 0,
             "tickcolor": "rgb(237,237,237)",
             "ticklen": 6,
             "ticks": "inside"
            },
            "type": "contourcarpet"
           }
          ],
          "heatmap": [
           {
            "colorbar": {
             "outlinewidth": 0,
             "tickcolor": "rgb(237,237,237)",
             "ticklen": 6,
             "ticks": "inside"
            },
            "colorscale": [
             [
              0,
              "rgb(20,44,66)"
             ],
             [
              1,
              "rgb(90,179,244)"
             ]
            ],
            "type": "heatmap"
           }
          ],
          "heatmapgl": [
           {
            "colorbar": {
             "outlinewidth": 0,
             "tickcolor": "rgb(237,237,237)",
             "ticklen": 6,
             "ticks": "inside"
            },
            "colorscale": [
             [
              0,
              "rgb(20,44,66)"
             ],
             [
              1,
              "rgb(90,179,244)"
             ]
            ],
            "type": "heatmapgl"
           }
          ],
          "histogram": [
           {
            "marker": {
             "pattern": {
              "fillmode": "overlay",
              "size": 10,
              "solidity": 0.2
             }
            },
            "type": "histogram"
           }
          ],
          "histogram2d": [
           {
            "colorbar": {
             "outlinewidth": 0,
             "tickcolor": "rgb(237,237,237)",
             "ticklen": 6,
             "ticks": "inside"
            },
            "colorscale": [
             [
              0,
              "rgb(20,44,66)"
             ],
             [
              1,
              "rgb(90,179,244)"
             ]
            ],
            "type": "histogram2d"
           }
          ],
          "histogram2dcontour": [
           {
            "colorbar": {
             "outlinewidth": 0,
             "tickcolor": "rgb(237,237,237)",
             "ticklen": 6,
             "ticks": "inside"
            },
            "colorscale": [
             [
              0,
              "rgb(20,44,66)"
             ],
             [
              1,
              "rgb(90,179,244)"
             ]
            ],
            "type": "histogram2dcontour"
           }
          ],
          "mesh3d": [
           {
            "colorbar": {
             "outlinewidth": 0,
             "tickcolor": "rgb(237,237,237)",
             "ticklen": 6,
             "ticks": "inside"
            },
            "type": "mesh3d"
           }
          ],
          "parcoords": [
           {
            "line": {
             "colorbar": {
              "outlinewidth": 0,
              "tickcolor": "rgb(237,237,237)",
              "ticklen": 6,
              "ticks": "inside"
             }
            },
            "type": "parcoords"
           }
          ],
          "pie": [
           {
            "automargin": true,
            "type": "pie"
           }
          ],
          "scatter": [
           {
            "fillpattern": {
             "fillmode": "overlay",
             "size": 10,
             "solidity": 0.2
            },
            "type": "scatter"
           }
          ],
          "scatter3d": [
           {
            "line": {
             "colorbar": {
              "outlinewidth": 0,
              "tickcolor": "rgb(237,237,237)",
              "ticklen": 6,
              "ticks": "inside"
             }
            },
            "marker": {
             "colorbar": {
              "outlinewidth": 0,
              "tickcolor": "rgb(237,237,237)",
              "ticklen": 6,
              "ticks": "inside"
             }
            },
            "type": "scatter3d"
           }
          ],
          "scattercarpet": [
           {
            "marker": {
             "colorbar": {
              "outlinewidth": 0,
              "tickcolor": "rgb(237,237,237)",
              "ticklen": 6,
              "ticks": "inside"
             }
            },
            "type": "scattercarpet"
           }
          ],
          "scattergeo": [
           {
            "marker": {
             "colorbar": {
              "outlinewidth": 0,
              "tickcolor": "rgb(237,237,237)",
              "ticklen": 6,
              "ticks": "inside"
             }
            },
            "type": "scattergeo"
           }
          ],
          "scattergl": [
           {
            "marker": {
             "colorbar": {
              "outlinewidth": 0,
              "tickcolor": "rgb(237,237,237)",
              "ticklen": 6,
              "ticks": "inside"
             }
            },
            "type": "scattergl"
           }
          ],
          "scattermapbox": [
           {
            "marker": {
             "colorbar": {
              "outlinewidth": 0,
              "tickcolor": "rgb(237,237,237)",
              "ticklen": 6,
              "ticks": "inside"
             }
            },
            "type": "scattermapbox"
           }
          ],
          "scatterpolar": [
           {
            "marker": {
             "colorbar": {
              "outlinewidth": 0,
              "tickcolor": "rgb(237,237,237)",
              "ticklen": 6,
              "ticks": "inside"
             }
            },
            "type": "scatterpolar"
           }
          ],
          "scatterpolargl": [
           {
            "marker": {
             "colorbar": {
              "outlinewidth": 0,
              "tickcolor": "rgb(237,237,237)",
              "ticklen": 6,
              "ticks": "inside"
             }
            },
            "type": "scatterpolargl"
           }
          ],
          "scatterternary": [
           {
            "marker": {
             "colorbar": {
              "outlinewidth": 0,
              "tickcolor": "rgb(237,237,237)",
              "ticklen": 6,
              "ticks": "inside"
             }
            },
            "type": "scatterternary"
           }
          ],
          "surface": [
           {
            "colorbar": {
             "outlinewidth": 0,
             "tickcolor": "rgb(237,237,237)",
             "ticklen": 6,
             "ticks": "inside"
            },
            "colorscale": [
             [
              0,
              "rgb(20,44,66)"
             ],
             [
              1,
              "rgb(90,179,244)"
             ]
            ],
            "type": "surface"
           }
          ],
          "table": [
           {
            "cells": {
             "fill": {
              "color": "rgb(237,237,237)"
             },
             "line": {
              "color": "white"
             }
            },
            "header": {
             "fill": {
              "color": "rgb(217,217,217)"
             },
             "line": {
              "color": "white"
             }
            },
            "type": "table"
           }
          ]
         },
         "layout": {
          "annotationdefaults": {
           "arrowhead": 0,
           "arrowwidth": 1
          },
          "autotypenumbers": "strict",
          "coloraxis": {
           "colorbar": {
            "outlinewidth": 0,
            "tickcolor": "rgb(237,237,237)",
            "ticklen": 6,
            "ticks": "inside"
           }
          },
          "colorscale": {
           "sequential": [
            [
             0,
             "rgb(20,44,66)"
            ],
            [
             1,
             "rgb(90,179,244)"
            ]
           ],
           "sequentialminus": [
            [
             0,
             "rgb(20,44,66)"
            ],
            [
             1,
             "rgb(90,179,244)"
            ]
           ]
          },
          "colorway": [
           "#F8766D",
           "#A3A500",
           "#00BF7D",
           "#00B0F6",
           "#E76BF3"
          ],
          "font": {
           "color": "rgb(51,51,51)"
          },
          "geo": {
           "bgcolor": "white",
           "lakecolor": "white",
           "landcolor": "rgb(237,237,237)",
           "showlakes": true,
           "showland": true,
           "subunitcolor": "white"
          },
          "hoverlabel": {
           "align": "left"
          },
          "hovermode": "closest",
          "paper_bgcolor": "white",
          "plot_bgcolor": "rgb(237,237,237)",
          "polar": {
           "angularaxis": {
            "gridcolor": "white",
            "linecolor": "white",
            "showgrid": true,
            "tickcolor": "rgb(51,51,51)",
            "ticks": "outside"
           },
           "bgcolor": "rgb(237,237,237)",
           "radialaxis": {
            "gridcolor": "white",
            "linecolor": "white",
            "showgrid": true,
            "tickcolor": "rgb(51,51,51)",
            "ticks": "outside"
           }
          },
          "scene": {
           "xaxis": {
            "backgroundcolor": "rgb(237,237,237)",
            "gridcolor": "white",
            "gridwidth": 2,
            "linecolor": "white",
            "showbackground": true,
            "showgrid": true,
            "tickcolor": "rgb(51,51,51)",
            "ticks": "outside",
            "zerolinecolor": "white"
           },
           "yaxis": {
            "backgroundcolor": "rgb(237,237,237)",
            "gridcolor": "white",
            "gridwidth": 2,
            "linecolor": "white",
            "showbackground": true,
            "showgrid": true,
            "tickcolor": "rgb(51,51,51)",
            "ticks": "outside",
            "zerolinecolor": "white"
           },
           "zaxis": {
            "backgroundcolor": "rgb(237,237,237)",
            "gridcolor": "white",
            "gridwidth": 2,
            "linecolor": "white",
            "showbackground": true,
            "showgrid": true,
            "tickcolor": "rgb(51,51,51)",
            "ticks": "outside",
            "zerolinecolor": "white"
           }
          },
          "shapedefaults": {
           "fillcolor": "black",
           "line": {
            "width": 0
           },
           "opacity": 0.3
          },
          "ternary": {
           "aaxis": {
            "gridcolor": "white",
            "linecolor": "white",
            "showgrid": true,
            "tickcolor": "rgb(51,51,51)",
            "ticks": "outside"
           },
           "baxis": {
            "gridcolor": "white",
            "linecolor": "white",
            "showgrid": true,
            "tickcolor": "rgb(51,51,51)",
            "ticks": "outside"
           },
           "bgcolor": "rgb(237,237,237)",
           "caxis": {
            "gridcolor": "white",
            "linecolor": "white",
            "showgrid": true,
            "tickcolor": "rgb(51,51,51)",
            "ticks": "outside"
           }
          },
          "xaxis": {
           "automargin": true,
           "gridcolor": "white",
           "linecolor": "white",
           "showgrid": true,
           "tickcolor": "rgb(51,51,51)",
           "ticks": "outside",
           "title": {
            "standoff": 15
           },
           "zerolinecolor": "white"
          },
          "yaxis": {
           "automargin": true,
           "gridcolor": "white",
           "linecolor": "white",
           "showgrid": true,
           "tickcolor": "rgb(51,51,51)",
           "ticks": "outside",
           "title": {
            "standoff": 15
           },
           "zerolinecolor": "white"
          }
         }
        },
        "title": {
         "text": "Median CAR Housing Affordability Index By Region (Q32022)"
        },
        "xaxis": {
         "anchor": "y",
         "categoryarray": [
          "Central Coast",
          "Central Valley",
          "Far North",
          "Other County",
          "S.F. Bay Area",
          "Southern California"
         ],
         "categoryorder": "array",
         "domain": [
          0,
          1
         ],
         "title": {
          "text": "Region"
         }
        },
        "yaxis": {
         "anchor": "x",
         "domain": [
          0,
          1
         ],
         "title": {
          "text": "CAR Housing Affordability Index"
         }
        }
       }
      }
     },
     "metadata": {},
     "output_type": "display_data"
    }
   ],
   "source": [
    "import plotly.express as px\n",
    "fig = px.bar(median_df, x = 'region', y = 'Q32022', \n",
    "             labels={'x': 'Region', 'y': 'CAR Housing Affordability Index'}, \n",
    "             template = 'ggplot2', color = 'region')\n",
    "fig.update_layout(\n",
    "    title=\"Median CAR Housing Affordability Index By Region (Q32022)\",\n",
    "    xaxis_title=\"Region\",\n",
    "    yaxis_title=\"CAR Housing Affordability Index\",\n",
    "    legend_title_text='Region'\n",
    ")"
   ]
  },
  {
   "cell_type": "code",
   "execution_count": 110,
   "metadata": {},
   "outputs": [
    {
     "data": {
      "text/html": [
       "<div>\n",
       "<style scoped>\n",
       "    .dataframe tbody tr th:only-of-type {\n",
       "        vertical-align: middle;\n",
       "    }\n",
       "\n",
       "    .dataframe tbody tr th {\n",
       "        vertical-align: top;\n",
       "    }\n",
       "\n",
       "    .dataframe thead th {\n",
       "        text-align: right;\n",
       "    }\n",
       "</style>\n",
       "<table border=\"1\" class=\"dataframe\">\n",
       "  <thead>\n",
       "    <tr style=\"text-align: right;\">\n",
       "      <th>region</th>\n",
       "      <th>Central Coast</th>\n",
       "      <th>Central Valley</th>\n",
       "      <th>Far North</th>\n",
       "      <th>Other County</th>\n",
       "      <th>S.F. Bay Area</th>\n",
       "      <th>Southern California</th>\n",
       "    </tr>\n",
       "  </thead>\n",
       "  <tbody>\n",
       "    <tr>\n",
       "      <th>Q32021</th>\n",
       "      <td>18.446265</td>\n",
       "      <td>42.930752</td>\n",
       "      <td>39.671051</td>\n",
       "      <td>34.791459</td>\n",
       "      <td>22.152901</td>\n",
       "      <td>23.731809</td>\n",
       "    </tr>\n",
       "    <tr>\n",
       "      <th>Q22022</th>\n",
       "      <td>12.635503</td>\n",
       "      <td>31.303317</td>\n",
       "      <td>32.197632</td>\n",
       "      <td>26.075249</td>\n",
       "      <td>16.893673</td>\n",
       "      <td>15.563656</td>\n",
       "    </tr>\n",
       "    <tr>\n",
       "      <th>Q32022</th>\n",
       "      <td>12.960322</td>\n",
       "      <td>32.780919</td>\n",
       "      <td>34.774091</td>\n",
       "      <td>27.102053</td>\n",
       "      <td>18.759466</td>\n",
       "      <td>15.924477</td>\n",
       "    </tr>\n",
       "  </tbody>\n",
       "</table>\n",
       "</div>"
      ],
      "text/plain": [
       "region  Central Coast  Central Valley  Far North  Other County  S.F. Bay Area  \\\n",
       "Q32021      18.446265       42.930752  39.671051     34.791459      22.152901   \n",
       "Q22022      12.635503       31.303317  32.197632     26.075249      16.893673   \n",
       "Q32022      12.960322       32.780919  34.774091     27.102053      18.759466   \n",
       "\n",
       "region  Southern California  \n",
       "Q32021            23.731809  \n",
       "Q22022            15.563656  \n",
       "Q32022            15.924477  "
      ]
     },
     "execution_count": 110,
     "metadata": {},
     "output_type": "execute_result"
    }
   ],
   "source": [
    "quarters = ['Q32021', 'Q22022', 'Q32022']\n",
    "medians = {}\n",
    "for i in quarters:\n",
    "    medians[i] = df[i].groupby(by = df['region']).median()\n",
    "df_medians = pd.DataFrame(medians).transpose()\n",
    "df_medians"
   ]
  },
  {
   "cell_type": "code",
   "execution_count": 108,
   "metadata": {},
   "outputs": [
    {
     "data": {
      "text/plain": [
       "<matplotlib.legend.Legend at 0x1fb6929dc70>"
      ]
     },
     "execution_count": 108,
     "metadata": {},
     "output_type": "execute_result"
    },
    {
     "data": {
      "image/png": "[encoded data removed]",
      "text/plain": [
       "<Figure size 2000x1600 with 1 Axes>"
      ]
     },
     "metadata": {},
     "output_type": "display_data"
    }
   ],
   "source": [
    "sns.set()\n",
    "fig, ax = plt.subplots(figsize=(10, 8), dpi = 200)\n",
    "df_medians.plot(ax = ax, kind = 'bar', edgecolor = 'black')\n",
    "ax.set_title('Median Housing Affordability Index by Region and Year', fontsize = 20)\n",
    "ax.set_xlabel('Year', fontsize = 16)\n",
    "ax.set_ylabel('Median Affordability Index', fontsize = 16)\n",
    "ax.set_xticklabels(df_medians.index, rotation=0)\n",
    "ax.legend(loc='center left', bbox_to_anchor=(1, 0.5), ncol=1, title = 'Regions')"
   ]
  },
  {
   "cell_type": "code",
   "execution_count": 109,
   "metadata": {},
   "outputs": [],
   "source": [
    "fig.savefig('car_barplot.png', dpi=200, bbox_inches='tight')"
   ]
  }
 ],
 "metadata": {
  "kernelspec": {
   "display_name": "base",
   "language": "python",
   "name": "python3"
  },
  "language_info": {
   "codemirror_mode": {
    "name": "ipython",
    "version": 3
   },
   "file_extension": ".py",
   "mimetype": "text/x-python",
   "name": "python",
   "nbconvert_exporter": "python",
   "pygments_lexer": "ipython3",
   "version": "3.9.13"
  },
  "orig_nbformat": 4,
  "vscode": {
   "interpreter": {
    "hash": "9ec37749e9d589f1cf65d67191ff786f565f6eb24a500e1cbb96fe95a7af7e7e"
   }
  }
 },
 "nbformat": 4,
 "nbformat_minor": 2
}
